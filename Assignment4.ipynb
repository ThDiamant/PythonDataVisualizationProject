{
 "cells": [
  {
   "cell_type": "markdown",
   "metadata": {},
   "source": [
    "# Assignment 4\n",
    "\n",
    "Before working on this assignment please read these instructions fully. In the submission area, you will notice that you can click the link to **Preview the Grading** for each step of the assignment. This is the criteria that will be used for peer grading. Please familiarize yourself with the criteria before beginning the assignment.\n",
    "\n",
    "This assignment requires that you to find **at least** two datasets on the web which are related, and that you visualize these datasets to answer a question with the broad topic of **sports or athletics** (see below) for the region of **Thessaloniki, Thessaloniki, Greece**, or **Greece** more broadly.\n",
    "\n",
    "You can merge these datasets with data from different regions if you like! For instance, you might want to compare **Thessaloniki, Thessaloniki, Greece** to Ann Arbor, USA. In that case at least one source file must be about **Thessaloniki, Thessaloniki, Greece**.\n",
    "\n",
    "You are welcome to choose datasets at your discretion, but keep in mind **they will be shared with your peers**, so choose appropriate datasets. Sensitive, confidential, illicit, and proprietary materials are not good choices for datasets for this assignment. You are welcome to upload datasets of your own as well, and link to them using a third party repository such as github, bitbucket, pastebin, etc. Please be aware of the Coursera terms of service with respect to intellectual property.\n",
    "\n",
    "Also, you are welcome to preserve data in its original language, but for the purposes of grading you should provide english translations. You are welcome to provide multiple visuals in different languages if you would like!\n",
    "\n",
    "As this assignment is for the whole course, you must incorporate principles discussed in the first week, such as having as high data-ink ratio (Tufte) and aligning with Cairo’s principles of truth, beauty, function, and insight.\n",
    "\n",
    "Here are the assignment instructions:\n",
    "\n",
    " * State the region and the domain category that your data sets are about (e.g., **Thessaloniki, Thessaloniki, Greece** and **sports or athletics**).\n",
    " * You must state a question about the domain category and region that you identified as being interesting.\n",
    " * You must provide at least two links to available datasets. These could be links to files such as CSV or Excel files, or links to websites which might have data in tabular form, such as Wikipedia pages.\n",
    " * You must upload an image which addresses the research question you stated. In addition to addressing the question, this visual should follow Cairo's principles of truthfulness, functionality, beauty, and insightfulness.\n",
    " * You must contribute a short (1-2 paragraph) written justification of how your visualization addresses your stated research question.\n",
    "\n",
    "What do we mean by **sports or athletics**?  For this category we are interested in sporting events or athletics broadly, please feel free to creatively interpret the category when building your research question!\n",
    "\n",
    "## Tips\n",
    "* Wikipedia is an excellent source of data, and I strongly encourage you to explore it for new data sources.\n",
    "* Many governments run open data initiatives at the city, region, and country levels, and these are wonderful resources for localized data sources.\n",
    "* Several international agencies, such as the [United Nations](http://data.un.org/), the [World Bank](http://data.worldbank.org/), the [Global Open Data Index](http://index.okfn.org/place/) are other great places to look for data.\n",
    "* This assignment requires you to convert and clean datafiles. Check out the discussion forums for tips on how to do this from various sources, and share your successes with your fellow students!\n",
    "\n",
    "## Example\n",
    "Looking for an example? Here's what our course assistant put together for the **Ann Arbor, MI, USA** area using **sports and athletics** as the topic. [Example Solution File](./readonly/Assignment4_example.pdf)"
   ]
  },
  {
   "cell_type": "markdown",
   "metadata": {},
   "source": [
    "## 1 Region and Domain\n",
    "\n",
    "USA and Germany\n",
    "\n",
    "Science & Technology\n",
    "\n",
    "## 2 Research Question\n",
    "\n",
    "How do the research volume (quantified in terms of number of journal articles published) and R&D expenditure compare between the USA and Germany for the period of 2000-2017?\n",
    "\n",
    "## 3 Links\n",
    "* USA dataset: https://data.worldbank.org/country/united-states?view=chart\n",
    "* Germany dataset: https://data.worldbank.org/country/germany?view=chart\n",
    "\n",
    "## 4 Code-Image\n",
    "\n",
    "### Libraries used"
   ]
  },
  {
   "cell_type": "code",
   "execution_count": null,
   "metadata": {
    "scrolled": true
   },
   "outputs": [],
   "source": [
    "import pandas as pd\n",
    "import matplotlib.pyplot as plt\n",
    "import matplotlib.gridspec as gridspec\n",
    "from matplotlib.ticker import (MultipleLocator, FormatStrFormatter, AutoMinorLocator)\n",
    "\n",
    "%matplotlib notebook"
   ]
  },
  {
   "cell_type": "markdown",
   "metadata": {},
   "source": [
    "### Function definitions"
   ]
  },
  {
   "cell_type": "code",
   "execution_count": null,
   "metadata": {
    "collapsed": true
   },
   "outputs": [],
   "source": [
    "\"\"\"\n",
    "Loads and cleans the data\n",
    "\"\"\"\n",
    "def load_data(path):\n",
    "    \n",
    "    def rename_cols():\n",
    "        new_names = ['GDP (current US$)',\n",
    "                    'Journal articles',\n",
    "                    'R&D expenditure (% of GDP)']\n",
    "        rename_dic = {x:y for (x,y) in zip(ind_names, new_names)}\n",
    "        ret_df.rename(columns=rename_dic, inplace = True)\n",
    "        \n",
    "        \n",
    "    # Read in data\n",
    "    ret_df = pd.read_csv(path, engine='python', skiprows = [0,1,2])\n",
    "     \n",
    "    # Variables we are interested in\n",
    "    ind_names = ['GDP (current US$)',\n",
    "                'Scientific and technical journal articles',\n",
    "                'Research and development expenditure (% of GDP)']\n",
    "\n",
    "    # Choose and clean relevant data\n",
    "    ret_df = (ret_df[ret_df['Indicator Name'].isin(ind_names)]\n",
    "              .set_index('Indicator Name')\n",
    "              .drop(['Country Name', 'Country Code', 'Indicator Code'], axis = 1)\n",
    "              .T\n",
    "              .dropna())\n",
    "\n",
    "    ret_df['GDP (trillions current US$)'] = ret_df['GDP (current US$)']*10**(-12)\n",
    "    ret_df.drop('GDP (current US$)', axis = 1, inplace = True)\n",
    "\n",
    "    rename_cols()\n",
    "    return ret_df\n",
    "\n",
    "\n",
    "\"\"\"\n",
    "Performs general calculations (column creation and deletion)\n",
    "\"\"\"\n",
    "def calculations(df):\n",
    "    df['R&D expenditure (trillions current US$)'] = df['R&D expenditure (% of GDP)']*df['GDP (trillions current US$)']\n",
    "    df['Journal articles (k)'] = df['Journal articles']*10**(-3)\n",
    "    df.drop('Journal articles', axis = 1, inplace = True)\n",
    "    df['Journals/Expenditure (k journals/trillions)'] = df['Journal articles (k)']/df['R&D expenditure (trillions current US$)']\n",
    "    #df.drop(['R&D expenditure (% of GDP)', 'Journal articles'], axis = 1, inplace = True)\n",
    "    return df\n",
    "\n",
    "\n",
    "\"\"\"\n",
    "Creates each individual axis on the figure\n",
    "\"\"\"\n",
    "def axes_creation(axi, colname, yname):\n",
    "    years = list(dfus.index) # x-axis tick labels\n",
    "    alpha = 0.8\n",
    "    \n",
    "    # Create plots and y-name\n",
    "    axi.plot(years, dfde[colname], 'k-', alpha = alpha, label = 'GER')\n",
    "    axi.plot(years, dfus[colname], '-', color = 'mediumblue', alpha = alpha, label = 'USA')\n",
    "    axi.set_ylabel(yname)\n",
    "    \n",
    "    # Major ticks and tick labels\n",
    "    axi.xaxis.set_major_locator(MultipleLocator(2))\n",
    "    axi.xaxis.set_major_formatter(FormatStrFormatter('%d'))\n",
    "    \n",
    "    # Minor ticks; no labels\n",
    "    axi.xaxis.set_minor_locator(MultipleLocator(1))\n",
    "\n",
    "\n",
    "\"\"\"\n",
    "Makes all the axes in the figure\n",
    "\"\"\"\n",
    "def make_plots():\n",
    "    # First figure\n",
    "    axi0 = fig.add_subplot(gs[0, :])\n",
    "    axes_creation(axi0, 'Journals/Expenditure (k journals/trillions)', 'Journ/Exp \\n (k/tril$)')\n",
    "\n",
    "    # Second figure\n",
    "    axi1 = fig.add_subplot(gs[1, 0])\n",
    "    axes_creation(axi1, 'Journal articles (k)', 'Journal \\n articles (k)')\n",
    "\n",
    "    # Third figure\n",
    "    axi2 = fig.add_subplot(gs[2, 0])\n",
    "    axes_creation(axi2, 'R&D expenditure (% of GDP)', 'R&D exp \\n (% GDP)')\n",
    "\n",
    "    # Last figure\n",
    "    axi3 = fig.add_subplot(gs[3, 0])\n",
    "    axes_creation(axi3, 'GDP (trillions current US$)', 'GDP \\n (tril $)')\n",
    "    \n",
    "    return axi0, axi1, axi2, axi3\n",
    "\n",
    "\n",
    "\"\"\"\n",
    "Sets up some options for the axes in the figure\n",
    "\"\"\"\n",
    "def configure_plots(axes_list):\n",
    "    # Set up frames and x-grids\n",
    "    for ax in axes_list:\n",
    "        ax.spines['right'].set_visible(False)\n",
    "        ax.spines['top'].set_visible(False)\n",
    "        #ax.grid(axis = 'x', color='grey', linestyle='--', linewidth=1, alpha = 0.2)\n",
    "    \n",
    "    # Set up y-grid and legend for top figure\n",
    "    #axes_list[0].grid(axis = 'y', color='grey', linestyle='-', linewidth=1, alpha = 0.2)\n",
    "    axes_list[0].legend()\n",
    "    \n",
    "    # Only show x tick labels for lower plots and y ones for leftmost plots\n",
    "    for ax in axes_list:\n",
    "        ax.label_outer()\n"
   ]
  },
  {
   "cell_type": "markdown",
   "metadata": {},
   "source": [
    "### Data loading and preparation"
   ]
  },
  {
   "cell_type": "code",
   "execution_count": null,
   "metadata": {
    "scrolled": true
   },
   "outputs": [],
   "source": [
    "# Get the data\n",
    "us_path = \"API_USA_DS2_en_csv_v2_888413.csv\"\n",
    "de_path = \"API_DEU_DS2_en_csv_v2_887601.csv\"\n",
    "\n",
    "# Load data\n",
    "dfus = load_data(us_path)\n",
    "dfde = load_data(de_path)\n",
    "\n",
    "# Create plot data\n",
    "dfus = calculations(dfus)\n",
    "dfde = calculations(dfde)"
   ]
  },
  {
   "cell_type": "markdown",
   "metadata": {},
   "source": [
    "### Ploting part"
   ]
  },
  {
   "cell_type": "code",
   "execution_count": null,
   "metadata": {},
   "outputs": [],
   "source": [
    "# Create figure and figure title\n",
    "fig = plt.figure()\n",
    "fig.suptitle('USA vs Germany research volume and \\n expenditure comparison 2000-2017', size=15)\n",
    "\n",
    "# Grid creation\n",
    "heights = [4, 2, 2, 2]\n",
    "gs = gridspec.GridSpec(ncols=1, nrows=4, height_ratios=heights, hspace = 0.2) \n",
    "\n",
    "ax0, ax1, ax2, ax3 = make_plots()\n",
    "\n",
    "axs_list = [ax0, ax1, ax2, ax3]\n",
    "configure_plots(axs_list)\n",
    "\n",
    "ax0.spines['right'].set_visible(True)\n",
    "ax0.spines['top'].set_visible(True)\n",
    "\n",
    "plt.show()\n",
    "plt.savefig('Assignment_4.png')"
   ]
  },
  {
   "cell_type": "markdown",
   "metadata": {},
   "source": [
    "## 5 Discussion\n",
    "\n",
    "This visualization was concerned with the comparison between the USA and Germany in terms of research volume and Research and Development (R&D) expenditure during the period between 2000 and 2017. The data were taken from the [World Bank](http://data.worldbank.org/). Research volume was quantified through the total number of journal articles (scientific and technical) while the R&D expenditure was calculated as the percentage of the country's GDP. To compare the two countries and try to correct for differences in population and size in general, I calculate the quotient of total journal articles (in thousands) and R&D expenditure (in trillions of current US dollars) which I will be referring to as journal-number-to-expenditure (JNTE) ratio from now on. I believe that, while not perfect, the JNTE ratio is a good start for an unbiased estimator (in terms of the obvious difference in these two countries' sizes), and furthermore I believe it provides some measure of how much research activity is being conducted given the money that each government invests in R&D. For a more complete answer, in addition to the aforementioned ratio, I have also included three more plots that I believe offer further insight, namely the total number of journals (in thousands), the countries' R&D expenditure (as a percent of the country's GDP) and finally the GDP (in current US dollars) for each country.\n",
    "\n",
    "The top plot in this visualization indicates that Germany generally has a higher JNTE ratio than the US. The US actually overtook Germany for 3 short periods: first during most of 2003-2005, second only briefly during late 2007 and early 2008 and lastly during late 2010 and early 2011. Furthermore, what both countries seem to share is a general decline of the ratio with Germany presenting a steeper drop. \n",
    "\n",
    "We can see, from the second plot in the figure, that the US has a larger number of journal publications and also presents a larger increase in the number of articles published during the 2000-2017 period. Furthermore, the US's GDP is also larger and more quickly rising than that of Germany. The US also had a greater percentage of its GDP allocated to R&D, until 2010 where Germany overtook the US and remained on top for the rest of that time period. I find the fact that Germany generally has a higher JNTR ratio than the US slightly surprising, since the US is larger and has a higher GDP than Germany; personally, I was expecting the opposite. Lastly, I want to point out that this figure merely suggests a difference, since I am aware that there are many factors I have not included which might affect the outcome."
   ]
  },
  {
   "cell_type": "markdown",
   "metadata": {},
   "source": [
    "## 6 Cairo's principles\n",
    "\n",
    "- Truthfulness: I have made my best effort for my visualization to be truthful by carefully calculating what I had to calculate and fairly representing the data in my visualization.\n",
    "\n",
    "- Beauty: I believe my visual to be fairly beautiful without losing functionality. I have just used different colors for the two different countries which I find suiting.\n",
    "\n",
    "- Functionality: I have made my plot as functional as I think it can be by having no grid lines (since we are only interested in the comparison between the two countries), made the x and y axes shared and only added tick labels where it was necessary. I have also removed the upper and rightmost box lines to make everything more clear to the eye.\n",
    "\n",
    "- Insightfulness: I believe my figure to be fairly insightful, since not only it immediately answers the posed question, but also explores all the relevant variables so that the viewer can understand the situation better."
   ]
  },
  {
   "cell_type": "code",
   "execution_count": null,
   "metadata": {
    "collapsed": true
   },
   "outputs": [],
   "source": []
  }
 ],
 "metadata": {
  "kernelspec": {
   "display_name": "Python 3",
   "language": "python",
   "name": "python3"
  },
  "language_info": {
   "codemirror_mode": {
    "name": "ipython",
    "version": 3
   },
   "file_extension": ".py",
   "mimetype": "text/x-python",
   "name": "python",
   "nbconvert_exporter": "python",
   "pygments_lexer": "ipython3",
   "version": "3.7.6"
  }
 },
 "nbformat": 4,
 "nbformat_minor": 1
}
